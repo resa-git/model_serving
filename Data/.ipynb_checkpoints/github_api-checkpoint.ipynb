{
 "cells": [
  {
   "cell_type": "code",
   "execution_count": 1,
   "id": "9ea8d06c-9857-4a16-a7e8-30576cbf1738",
   "metadata": {},
   "outputs": [],
   "source": [
    "import requests\n",
    "import json\n",
    "import datetime"
   ]
  },
  {
   "cell_type": "markdown",
   "id": "c6744242-01d5-4892-a756-85f81cffde8f",
   "metadata": {},
   "source": [
    "### Simple example"
   ]
  },
  {
   "cell_type": "code",
   "execution_count": 2,
   "id": "571ad7d1-f300-446c-919b-a125d4298b3c",
   "metadata": {},
   "outputs": [],
   "source": [
    "#res = requests.get('https://api.github.com/users/defunkt')\n",
    "#res.json()\n",
    "#print(json.dumps(dict(res.headers), indent=1))"
   ]
  },
  {
   "cell_type": "markdown",
   "id": "18e22b44-7f98-48c7-b36a-ab97e52b1c95",
   "metadata": {},
   "source": [
    "### Search without auth"
   ]
  },
  {
   "cell_type": "code",
   "execution_count": null,
   "id": "c423ef78-ecaa-4289-9ef7-821335622b6c",
   "metadata": {},
   "outputs": [],
   "source": [
    "https://github.com/search?utf8=%E2%9C%93&q=cats+stars%3A%3E1000&type=Repositories"
   ]
  },
  {
   "cell_type": "code",
   "execution_count": 34,
   "id": "0e6050cc-c174-4a00-ba9b-9da68ae82f1e",
   "metadata": {},
   "outputs": [],
   "source": [
    "r = requests.get('https://api.github.com/search/repositories?q=stars:50..*&type=Repositories')"
   ]
  },
  {
   "cell_type": "code",
   "execution_count": 35,
   "id": "3284a1e9-797c-4cd2-8001-6f1319197412",
   "metadata": {},
   "outputs": [
    {
     "name": "stdout",
     "output_type": "stream",
     "text": [
      "{\n",
      " \"Server\": \"GitHub.com\",\n",
      " \"Date\": \"Tue, 18 May 2021 11:30:09 GMT\",\n",
      " \"Content-Type\": \"application/json; charset=utf-8\",\n",
      " \"Cache-Control\": \"no-cache\",\n",
      " \"Vary\": \"Accept, Accept-Encoding, Accept, X-Requested-With\",\n",
      " \"X-GitHub-Media-Type\": \"github.v3; format=json\",\n",
      " \"Link\": \"<https://api.github.com/search/repositories?q=stars%3A50..%2A&type=Repositories&page=2>; rel=\\\"next\\\", <https://api.github.com/search/repositories?q=stars%3A50..%2A&type=Repositories&page=34>; rel=\\\"last\\\"\",\n",
      " \"Access-Control-Expose-Headers\": \"ETag, Link, Location, Retry-After, X-GitHub-OTP, X-RateLimit-Limit, X-RateLimit-Remaining, X-RateLimit-Used, X-RateLimit-Resource, X-RateLimit-Reset, X-OAuth-Scopes, X-Accepted-OAuth-Scopes, X-Poll-Interval, X-GitHub-Media-Type, Deprecation, Sunset\",\n",
      " \"Access-Control-Allow-Origin\": \"*\",\n",
      " \"Strict-Transport-Security\": \"max-age=31536000; includeSubdomains; preload\",\n",
      " \"X-Frame-Options\": \"deny\",\n",
      " \"X-Content-Type-Options\": \"nosniff\",\n",
      " \"X-XSS-Protection\": \"0\",\n",
      " \"Referrer-Policy\": \"origin-when-cross-origin, strict-origin-when-cross-origin\",\n",
      " \"Content-Security-Policy\": \"default-src 'none'\",\n",
      " \"Content-Encoding\": \"gzip\",\n",
      " \"X-RateLimit-Limit\": \"10\",\n",
      " \"X-RateLimit-Remaining\": \"8\",\n",
      " \"X-RateLimit-Reset\": \"1621337424\",\n",
      " \"X-RateLimit-Resource\": \"search\",\n",
      " \"X-RateLimit-Used\": \"2\",\n",
      " \"Accept-Ranges\": \"bytes\",\n",
      " \"Transfer-Encoding\": \"chunked\",\n",
      " \"X-GitHub-Request-Id\": \"C530:8DF1:A6E871:BD56B1:60A3A540\"\n",
      "}\n",
      "---------------\n",
      "Tue May 18 13:30:24 2021\n"
     ]
    }
   ],
   "source": [
    "print(json.dumps(dict(r.headers), indent=1))\n",
    "print('---------------')\n",
    "print(datetime.datetime.fromtimestamp(int(r.headers['X-RateLimit-Reset'])).strftime('%c'))"
   ]
  },
  {
   "cell_type": "markdown",
   "id": "d97689c8-cd7b-4ee5-a133-932f42dc72f8",
   "metadata": {},
   "source": [
    "### find keys in the itmes field"
   ]
  },
  {
   "cell_type": "code",
   "execution_count": 36,
   "id": "c82f13c1-6ba6-4e1c-925d-218f34173eca",
   "metadata": {},
   "outputs": [
    {
     "data": {
      "text/plain": [
       "30"
      ]
     },
     "execution_count": 36,
     "metadata": {},
     "output_type": "execute_result"
    }
   ],
   "source": [
    "r_json = r.json()\n",
    "items = r_json['items']\n",
    "len(items)"
   ]
  },
  {
   "cell_type": "code",
   "execution_count": 37,
   "id": "e9d5574a-5568-4877-942f-08cb26504127",
   "metadata": {},
   "outputs": [
    {
     "data": {
      "text/plain": [
       "['total_count', 'incomplete_results', 'items']"
      ]
     },
     "execution_count": 37,
     "metadata": {},
     "output_type": "execute_result"
    }
   ],
   "source": [
    "[key for key in r_json]   "
   ]
  },
  {
   "cell_type": "code",
   "execution_count": 38,
   "id": "65752cba-c1e3-428b-a81c-5e40d95adfb6",
   "metadata": {},
   "outputs": [
    {
     "name": "stdout",
     "output_type": "stream",
     "text": [
      "['id', 'node_id', 'name', 'full_name', 'private', 'owner', 'html_url', 'description', 'fork', 'url', 'forks_url', 'keys_url', 'collaborators_url', 'teams_url', 'hooks_url', 'issue_events_url', 'events_url', 'assignees_url', 'branches_url', 'tags_url', 'blobs_url', 'git_tags_url', 'git_refs_url', 'trees_url', 'statuses_url', 'languages_url', 'stargazers_url', 'contributors_url', 'subscribers_url', 'subscription_url', 'commits_url', 'git_commits_url', 'comments_url', 'issue_comment_url', 'contents_url', 'compare_url', 'merges_url', 'archive_url', 'downloads_url', 'issues_url', 'pulls_url', 'milestones_url', 'notifications_url', 'labels_url', 'releases_url', 'deployments_url', 'created_at', 'updated_at', 'pushed_at', 'git_url', 'ssh_url', 'clone_url', 'svn_url', 'homepage', 'size', 'stargazers_count', 'watchers_count', 'language', 'has_issues', 'has_projects', 'has_downloads', 'has_wiki', 'has_pages', 'forks_count', 'mirror_url', 'archived', 'disabled', 'open_issues_count', 'license', 'forks', 'open_issues', 'watchers', 'default_branch', 'score'] \t\n"
     ]
    }
   ],
   "source": [
    "print([(key) for key in r_json['items'][0]], '\\t')"
   ]
  },
  {
   "cell_type": "code",
   "execution_count": 39,
   "id": "aa2f8336-9805-4fae-9021-af5428de56da",
   "metadata": {},
   "outputs": [
    {
     "name": "stdout",
     "output_type": "stream",
     "text": [
      "{\n",
      " \"id\": 177736533,\n",
      " \"node_id\": \"MDEwOlJlcG9zaXRvcnkxNzc3MzY1MzM=\",\n",
      " \"name\": \"996.ICU\",\n",
      " \"full_name\": \"996icu/996.ICU\",\n",
      " \"private\": false,\n",
      " \"owner\": {\n",
      "  \"login\": \"996icu\",\n",
      "  \"id\": 48942249,\n",
      "  \"node_id\": \"MDQ6VXNlcjQ4OTQyMjQ5\",\n",
      "  \"avatar_url\": \"https://avatars.githubusercontent.com/u/48942249?v=4\",\n",
      "  \"gravatar_id\": \"\",\n",
      "  \"url\": \"https://api.github.com/users/996icu\",\n",
      "  \"html_url\": \"https://github.com/996icu\",\n",
      "  \"followers_url\": \"https://api.github.com/users/996icu/followers\",\n",
      "  \"following_url\": \"https://api.github.com/users/996icu/following{/other_user}\",\n",
      "  \"gists_url\": \"https://api.github.com/users/996icu/gists{/gist_id}\",\n",
      "  \"starred_url\": \"https://api.github.com/users/996icu/starred{/owner}{/repo}\",\n",
      "  \"subscriptions_url\": \"https://api.github.com/users/996icu/subscriptions\",\n",
      "  \"organizations_url\": \"https://api.github.com/users/996icu/orgs\",\n",
      "  \"repos_url\": \"https://api.github.com/users/996icu/repos\",\n",
      "  \"events_url\": \"https://api.github.com/users/996icu/events{/privacy}\",\n",
      "  \"received_events_url\": \"https://api.github.com/users/996icu/received_events\",\n",
      "  \"type\": \"User\",\n",
      "  \"site_admin\": false\n",
      " },\n",
      " \"html_url\": \"https://github.com/996icu/996.ICU\",\n",
      " \"description\": \"Repo for counting stars and contributing. Press F to pay respect to glorious developers.\",\n",
      " \"fork\": false,\n",
      " \"url\": \"https://api.github.com/repos/996icu/996.ICU\",\n",
      " \"forks_url\": \"https://api.github.com/repos/996icu/996.ICU/forks\",\n",
      " \"keys_url\": \"https://api.github.com/repos/996icu/996.ICU/keys{/key_id}\",\n",
      " \"collaborators_url\": \"https://api.github.com/repos/996icu/996.ICU/collaborators{/collaborator}\",\n",
      " \"teams_url\": \"https://api.github.com/repos/996icu/996.ICU/teams\",\n",
      " \"hooks_url\": \"https://api.github.com/repos/996icu/996.ICU/hooks\",\n",
      " \"issue_events_url\": \"https://api.github.com/repos/996icu/996.ICU/issues/events{/number}\",\n",
      " \"events_url\": \"https://api.github.com/repos/996icu/996.ICU/events\",\n",
      " \"assignees_url\": \"https://api.github.com/repos/996icu/996.ICU/assignees{/user}\",\n",
      " \"branches_url\": \"https://api.github.com/repos/996icu/996.ICU/branches{/branch}\",\n",
      " \"tags_url\": \"https://api.github.com/repos/996icu/996.ICU/tags\",\n",
      " \"blobs_url\": \"https://api.github.com/repos/996icu/996.ICU/git/blobs{/sha}\",\n",
      " \"git_tags_url\": \"https://api.github.com/repos/996icu/996.ICU/git/tags{/sha}\",\n",
      " \"git_refs_url\": \"https://api.github.com/repos/996icu/996.ICU/git/refs{/sha}\",\n",
      " \"trees_url\": \"https://api.github.com/repos/996icu/996.ICU/git/trees{/sha}\",\n",
      " \"statuses_url\": \"https://api.github.com/repos/996icu/996.ICU/statuses/{sha}\",\n",
      " \"languages_url\": \"https://api.github.com/repos/996icu/996.ICU/languages\",\n",
      " \"stargazers_url\": \"https://api.github.com/repos/996icu/996.ICU/stargazers\",\n",
      " \"contributors_url\": \"https://api.github.com/repos/996icu/996.ICU/contributors\",\n",
      " \"subscribers_url\": \"https://api.github.com/repos/996icu/996.ICU/subscribers\",\n",
      " \"subscription_url\": \"https://api.github.com/repos/996icu/996.ICU/subscription\",\n",
      " \"commits_url\": \"https://api.github.com/repos/996icu/996.ICU/commits{/sha}\",\n",
      " \"git_commits_url\": \"https://api.github.com/repos/996icu/996.ICU/git/commits{/sha}\",\n",
      " \"comments_url\": \"https://api.github.com/repos/996icu/996.ICU/comments{/number}\",\n",
      " \"issue_comment_url\": \"https://api.github.com/repos/996icu/996.ICU/issues/comments{/number}\",\n",
      " \"contents_url\": \"https://api.github.com/repos/996icu/996.ICU/contents/{+path}\",\n",
      " \"compare_url\": \"https://api.github.com/repos/996icu/996.ICU/compare/{base}...{head}\",\n",
      " \"merges_url\": \"https://api.github.com/repos/996icu/996.ICU/merges\",\n",
      " \"archive_url\": \"https://api.github.com/repos/996icu/996.ICU/{archive_format}{/ref}\",\n",
      " \"downloads_url\": \"https://api.github.com/repos/996icu/996.ICU/downloads\",\n",
      " \"issues_url\": \"https://api.github.com/repos/996icu/996.ICU/issues{/number}\",\n",
      " \"pulls_url\": \"https://api.github.com/repos/996icu/996.ICU/pulls{/number}\",\n",
      " \"milestones_url\": \"https://api.github.com/repos/996icu/996.ICU/milestones{/number}\",\n",
      " \"notifications_url\": \"https://api.github.com/repos/996icu/996.ICU/notifications{?since,all,participating}\",\n",
      " \"labels_url\": \"https://api.github.com/repos/996icu/996.ICU/labels{/name}\",\n",
      " \"releases_url\": \"https://api.github.com/repos/996icu/996.ICU/releases{/id}\",\n",
      " \"deployments_url\": \"https://api.github.com/repos/996icu/996.ICU/deployments\",\n",
      " \"created_at\": \"2019-03-26T07:31:14Z\",\n",
      " \"updated_at\": \"2021-05-18T11:18:31Z\",\n",
      " \"pushed_at\": \"2021-05-13T11:21:48Z\",\n",
      " \"git_url\": \"git://github.com/996icu/996.ICU.git\",\n",
      " \"ssh_url\": \"git@github.com:996icu/996.ICU.git\",\n",
      " \"clone_url\": \"https://github.com/996icu/996.ICU.git\",\n",
      " \"svn_url\": \"https://github.com/996icu/996.ICU\",\n",
      " \"homepage\": \"https://996.icu\",\n",
      " \"size\": 183401,\n",
      " \"stargazers_count\": 256997,\n",
      " \"watchers_count\": 256997,\n",
      " \"language\": \"Rust\",\n",
      " \"has_issues\": false,\n",
      " \"has_projects\": false,\n",
      " \"has_downloads\": true,\n",
      " \"has_wiki\": false,\n",
      " \"has_pages\": false,\n",
      " \"forks_count\": 21304,\n",
      " \"mirror_url\": null,\n",
      " \"archived\": false,\n",
      " \"disabled\": false,\n",
      " \"open_issues_count\": 16807,\n",
      " \"license\": {\n",
      "  \"key\": \"other\",\n",
      "  \"name\": \"Other\",\n",
      "  \"spdx_id\": \"NOASSERTION\",\n",
      "  \"url\": null,\n",
      "  \"node_id\": \"MDc6TGljZW5zZTA=\"\n",
      " },\n",
      " \"forks\": 21304,\n",
      " \"open_issues\": 16807,\n",
      " \"watchers\": 256997,\n",
      " \"default_branch\": \"master\",\n",
      " \"score\": 1.0\n",
      "}\n"
     ]
    }
   ],
   "source": [
    "print(json.dumps(dict(r_json['items'][1]), indent=1))"
   ]
  },
  {
   "cell_type": "markdown",
   "id": "86aff2d4-789f-4d0c-b85b-6865c8b7347c",
   "metadata": {},
   "source": [
    "### double check the stars"
   ]
  },
  {
   "cell_type": "code",
   "execution_count": 42,
   "id": "7920bd36-5e5a-4ee2-8156-48dc38f91db3",
   "metadata": {},
   "outputs": [],
   "source": [
    "#print(json.dumps(dict(r_json['items'][0]), indent=1))"
   ]
  },
  {
   "cell_type": "code",
   "execution_count": 41,
   "id": "6a927569-2e5c-48af-a8b3-f7dc30a7845a",
   "metadata": {},
   "outputs": [
    {
     "data": {
      "text/plain": [
       "[324187,\n",
       " 256997,\n",
       " 188107,\n",
       " 183437,\n",
       " 169900,\n",
       " 168513,\n",
       " 161071,\n",
       " 159996,\n",
       " 155866,\n",
       " 150119,\n",
       " 138646,\n",
       " 131839,\n",
       " 128774,\n",
       " 127846,\n",
       " 124488,\n",
       " 120516,\n",
       " 118084,\n",
       " 116007,\n",
       " 111863,\n",
       " 108988,\n",
       " 107461,\n",
       " 107087,\n",
       " 106976,\n",
       " 103863,\n",
       " 103418,\n",
       " 98328,\n",
       " 96858,\n",
       " 95384,\n",
       " 94772,\n",
       " 91789]"
      ]
     },
     "execution_count": 41,
     "metadata": {},
     "output_type": "execute_result"
    }
   ],
   "source": [
    "items = r_json['items']\n",
    "ll = len(items)\n",
    "[items[i]['watchers'] for i in range(ll)]"
   ]
  }
 ],
 "metadata": {
  "kernelspec": {
   "display_name": "Python 3",
   "language": "python",
   "name": "python3"
  },
  "language_info": {
   "codemirror_mode": {
    "name": "ipython",
    "version": 3
   },
   "file_extension": ".py",
   "mimetype": "text/x-python",
   "name": "python",
   "nbconvert_exporter": "python",
   "pygments_lexer": "ipython3",
   "version": "3.8.8"
  }
 },
 "nbformat": 4,
 "nbformat_minor": 5
}
