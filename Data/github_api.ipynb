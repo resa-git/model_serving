{
 "cells": [
  {
   "cell_type": "code",
   "execution_count": 1,
   "id": "9ea8d06c-9857-4a16-a7e8-30576cbf1738",
   "metadata": {},
   "outputs": [],
   "source": [
    "import requests\n",
    "import json\n",
    "import datetime\n",
    "import pandas as pd\n",
    "import matplotlib.pyplot as plt\n",
    "import seaborn as sns"
   ]
  },
  {
   "cell_type": "markdown",
   "id": "c6744242-01d5-4892-a756-85f81cffde8f",
   "metadata": {},
   "source": [
    "### Simple example"
   ]
  },
  {
   "cell_type": "code",
   "execution_count": 2,
   "id": "571ad7d1-f300-446c-919b-a125d4298b3c",
   "metadata": {},
   "outputs": [],
   "source": [
    "#res = requests.get('https://api.github.com/users/defunkt')\n",
    "#res.json()\n",
    "#print(json.dumps(dict(res.headers), indent=1))"
   ]
  },
  {
   "cell_type": "markdown",
   "id": "18e22b44-7f98-48c7-b36a-ab97e52b1c95",
   "metadata": {},
   "source": [
    "### Search without auth"
   ]
  },
  {
   "cell_type": "code",
   "execution_count": 3,
   "id": "ed4dcc0f-905a-4861-888c-88fb0bada9b7",
   "metadata": {},
   "outputs": [],
   "source": [
    "params = {'q' : 'stars:50..*', 'page': '1', 'per_page':'100'}\n",
    "api = 'https://api.github.com/search/repositories'\n",
    "data = []\n",
    "for i in range(10):\n",
    "    r = requests.get(api, params=params)\n",
    "    json_response = json.loads(r.text)\n",
    "    data.append(json_response)\n",
    "    if 'next' in r.links: \n",
    "        api = r.links['next']['url']        "
   ]
  },
  {
   "cell_type": "code",
   "execution_count": 9,
   "id": "81bd3b61-6f59-4d03-b139-efa0d32bb238",
   "metadata": {},
   "outputs": [
    {
     "name": "stdout",
     "output_type": "stream",
     "text": [
      "total number of pages:  10\n"
     ]
    }
   ],
   "source": [
    "print('total number of pages: ', len(data))"
   ]
  },
  {
   "cell_type": "code",
   "execution_count": 10,
   "id": "3284a1e9-797c-4cd2-8001-6f1319197412",
   "metadata": {},
   "outputs": [
    {
     "name": "stdout",
     "output_type": "stream",
     "text": [
      "total number of results: 392958\n",
      "total number of items: 100\n"
     ]
    }
   ],
   "source": [
    "print(\"total number of results: \" +  str(r.json()['total_count']) )\n",
    "print(\"total number of items: \" +  str(len(r.json()['items'])))\n",
    "#print(json.dumps(dict(r.headers), indent=1))\n",
    "#print('---------------')\n",
    "#print(datetime.datetime.fromtimestamp(int(r.headers['X-RateLimit-Reset'])).strftime('%c'))"
   ]
  },
  {
   "cell_type": "code",
   "execution_count": 11,
   "id": "fb8815cd-bcbf-4a49-a150-ab5bc0119952",
   "metadata": {},
   "outputs": [],
   "source": [
    "dg = pd.DataFrame()\n",
    "for d in data:\n",
    "    dfItem = pd.DataFrame.from_records(d)\n",
    "    dg = dg.append(dfItem, ignore_index=True)"
   ]
  },
  {
   "cell_type": "code",
   "execution_count": 12,
   "id": "f7608521-728d-4011-b90d-cd7e16e17ecc",
   "metadata": {},
   "outputs": [],
   "source": [
    "df = pd.DataFrame()\n",
    "for d in data:\n",
    "    dfItem = pd.DataFrame.from_records(d['items'])\n",
    "    df = df.append(dfItem, ignore_index=True)"
   ]
  },
  {
   "cell_type": "markdown",
   "id": "247e4917-132f-420d-8c76-a7ca51c17d6d",
   "metadata": {},
   "source": [
    "### Columns name dg has only three columes and we expands items to build another  dataset"
   ]
  },
  {
   "cell_type": "code",
   "execution_count": 13,
   "id": "dbd08fca-12b9-4c5b-8798-773dc42dea8d",
   "metadata": {},
   "outputs": [
    {
     "data": {
      "text/plain": [
       "Index(['incomplete_results', 'items', 'total_count'], dtype='object')"
      ]
     },
     "execution_count": 13,
     "metadata": {},
     "output_type": "execute_result"
    }
   ],
   "source": [
    "dg.columns"
   ]
  },
  {
   "cell_type": "code",
   "execution_count": 14,
   "id": "1950fa4a-7e9a-44a6-bc03-a7e494a1fda7",
   "metadata": {},
   "outputs": [
    {
     "data": {
      "text/plain": [
       "Index(['id', 'node_id', 'name', 'full_name', 'private', 'owner', 'html_url',\n",
       "       'description', 'fork', 'url', 'forks_url', 'keys_url',\n",
       "       'collaborators_url', 'teams_url', 'hooks_url', 'issue_events_url',\n",
       "       'events_url', 'assignees_url', 'branches_url', 'tags_url', 'blobs_url',\n",
       "       'git_tags_url', 'git_refs_url', 'trees_url', 'statuses_url',\n",
       "       'languages_url', 'stargazers_url', 'contributors_url',\n",
       "       'subscribers_url', 'subscription_url', 'commits_url', 'git_commits_url',\n",
       "       'comments_url', 'issue_comment_url', 'contents_url', 'compare_url',\n",
       "       'merges_url', 'archive_url', 'downloads_url', 'issues_url', 'pulls_url',\n",
       "       'milestones_url', 'notifications_url', 'labels_url', 'releases_url',\n",
       "       'deployments_url', 'created_at', 'updated_at', 'pushed_at', 'git_url',\n",
       "       'ssh_url', 'clone_url', 'svn_url', 'homepage', 'size',\n",
       "       'stargazers_count', 'watchers_count', 'language', 'has_issues',\n",
       "       'has_projects', 'has_downloads', 'has_wiki', 'has_pages', 'forks_count',\n",
       "       'mirror_url', 'archived', 'disabled', 'open_issues_count', 'license',\n",
       "       'forks', 'open_issues', 'watchers', 'default_branch', 'score'],\n",
       "      dtype='object')"
      ]
     },
     "execution_count": 14,
     "metadata": {},
     "output_type": "execute_result"
    }
   ],
   "source": [
    "df.columns"
   ]
  },
  {
   "cell_type": "code",
   "execution_count": 15,
   "id": "13dec20f-3b4b-42f0-9cc4-a35f82a8d7a0",
   "metadata": {},
   "outputs": [
    {
     "data": {
      "text/plain": [
       "(1000, 74)"
      ]
     },
     "execution_count": 15,
     "metadata": {},
     "output_type": "execute_result"
    }
   ],
   "source": [
    "df.shape"
   ]
  },
  {
   "cell_type": "markdown",
   "id": "2b91fe66-74ef-4e4b-901f-ea6a255e5d85",
   "metadata": {},
   "source": [
    "### feature enginering"
   ]
  },
  {
   "cell_type": "markdown",
   "id": "d28d0f92-6e18-412f-b26c-e72bf4fd7897",
   "metadata": {},
   "source": [
    "source: https://github.com/krishnaik06/Complete-Feature-Selection"
   ]
  },
  {
   "cell_type": "markdown",
   "id": "abc90488-32cc-4b49-a4d3-d8aa815a3673",
   "metadata": {},
   "source": [
    "#### exclude constant collmns"
   ]
  },
  {
   "cell_type": "code",
   "execution_count": 17,
   "id": "d1c3d345-9a4a-4d5b-b54c-7737a554b8c1",
   "metadata": {},
   "outputs": [
    {
     "data": {
      "text/plain": [
       "['archived', 'disabled', 'fork']"
      ]
     },
     "execution_count": 17,
     "metadata": {},
     "output_type": "execute_result"
    }
   ],
   "source": [
    "#[any(df[col] != False) for col in ['has_downloads', 'disabled\topen_issues_count\tfork]\n",
    "const_cols = []\n",
    "for col in ['has_issues', 'archived', 'has_pages',  'has_projects', 'has_wiki', 'has_downloads','disabled', 'fork' ]:\n",
    "    if len(df[col].unique()) == 1:\n",
    "        const_cols.append(col)\n",
    "const_cols"
   ]
  },
  {
   "cell_type": "markdown",
   "id": "c2b41fab-8278-4c34-bb70-3cc860867747",
   "metadata": {},
   "source": [
    "#### check categorical data for language"
   ]
  },
  {
   "cell_type": "code",
   "execution_count": 19,
   "id": "c1ff1130-9eab-489a-be90-de12c2a0d51a",
   "metadata": {},
   "outputs": [
    {
     "data": {
      "text/plain": [
       "<AxesSubplot:>"
      ]
     },
     "execution_count": 19,
     "metadata": {},
     "output_type": "execute_result"
    },
    {
     "data": {
      "image/png": "[encoded data removed]",
      "text/plain": [
       "<Figure size 432x288 with 1 Axes>"
      ]
     },
     "metadata": {
      "needs_background": "light"
     },
     "output_type": "display_data"
    }
   ],
   "source": [
    "df['language'].value_counts().plot(kind='bar')"
   ]
  },
  {
   "cell_type": "markdown",
   "id": "26939601-925d-4de3-bfb6-d6253314ab38",
   "metadata": {},
   "source": [
    "#### excludes some columns manually <br> excludes constant columns obtained in previous section <br> remove language column for convenience"
   ]
  },
  {
   "cell_type": "code",
   "execution_count": 20,
   "id": "058ec057-cc84-4f36-ab84-cfe641006fcc",
   "metadata": {},
   "outputs": [],
   "source": [
    "cols = []\n",
    "list_ = ['url', '_at', 'description', 'id', 'owner', 'score', 'default_branch', 'homepage', 'license', 'name', 'watchers_count']  + const_cols + ['language']\n",
    "for w in set(df.columns):\n",
    "    if not any(word in w for word in list_):\n",
    "        cols.append(w)\n",
    "        \n",
    "df2 = df[cols]\n",
    "#df2.head()"
   ]
  },
  {
   "cell_type": "markdown",
   "id": "f67d1d3e-2adb-41b7-b8f1-e52415c8a715",
   "metadata": {},
   "source": [
    "### convert true and false into numbers"
   ]
  },
  {
   "cell_type": "code",
   "execution_count": 21,
   "id": "3c90b838-0bc0-4ac0-86fc-58b44bcd2534",
   "metadata": {},
   "outputs": [
    {
     "data": {
      "text/html": [
       "<div>\n",
       "<style scoped>\n",
       "    .dataframe tbody tr th:only-of-type {\n",
       "        vertical-align: middle;\n",
       "    }\n",
       "\n",
       "    .dataframe tbody tr th {\n",
       "        vertical-align: top;\n",
       "    }\n",
       "\n",
       "    .dataframe thead th {\n",
       "        text-align: right;\n",
       "    }\n",
       "</style>\n",
       "<table border=\"1\" class=\"dataframe\">\n",
       "  <thead>\n",
       "    <tr style=\"text-align: right;\">\n",
       "      <th></th>\n",
       "      <th>open_issues_count</th>\n",
       "      <th>has_wiki</th>\n",
       "      <th>has_downloads</th>\n",
       "      <th>has_projects</th>\n",
       "      <th>watchers</th>\n",
       "      <th>stargazers_count</th>\n",
       "      <th>size</th>\n",
       "      <th>has_pages</th>\n",
       "      <th>has_issues</th>\n",
       "      <th>open_issues</th>\n",
       "      <th>private</th>\n",
       "    </tr>\n",
       "  </thead>\n",
       "  <tbody>\n",
       "    <tr>\n",
       "      <th>0</th>\n",
       "      <td>248</td>\n",
       "      <td>0</td>\n",
       "      <td>1</td>\n",
       "      <td>0</td>\n",
       "      <td>324428</td>\n",
       "      <td>324428</td>\n",
       "      <td>197549</td>\n",
       "      <td>1</td>\n",
       "      <td>1</td>\n",
       "      <td>248</td>\n",
       "      <td>0</td>\n",
       "    </tr>\n",
       "    <tr>\n",
       "      <th>1</th>\n",
       "      <td>16810</td>\n",
       "      <td>0</td>\n",
       "      <td>1</td>\n",
       "      <td>0</td>\n",
       "      <td>257104</td>\n",
       "      <td>257104</td>\n",
       "      <td>183401</td>\n",
       "      <td>0</td>\n",
       "      <td>0</td>\n",
       "      <td>16810</td>\n",
       "      <td>0</td>\n",
       "    </tr>\n",
       "    <tr>\n",
       "      <th>2</th>\n",
       "      <td>31</td>\n",
       "      <td>1</td>\n",
       "      <td>1</td>\n",
       "      <td>0</td>\n",
       "      <td>188740</td>\n",
       "      <td>188740</td>\n",
       "      <td>10804</td>\n",
       "      <td>1</td>\n",
       "      <td>1</td>\n",
       "      <td>31</td>\n",
       "      <td>0</td>\n",
       "    </tr>\n",
       "    <tr>\n",
       "      <th>3</th>\n",
       "      <td>536</td>\n",
       "      <td>1</td>\n",
       "      <td>1</td>\n",
       "      <td>1</td>\n",
       "      <td>183726</td>\n",
       "      <td>183726</td>\n",
       "      <td>27322</td>\n",
       "      <td>0</td>\n",
       "      <td>1</td>\n",
       "      <td>536</td>\n",
       "      <td>0</td>\n",
       "    </tr>\n",
       "    <tr>\n",
       "      <th>4</th>\n",
       "      <td>45</td>\n",
       "      <td>0</td>\n",
       "      <td>1</td>\n",
       "      <td>0</td>\n",
       "      <td>170509</td>\n",
       "      <td>170509</td>\n",
       "      <td>13138</td>\n",
       "      <td>0</td>\n",
       "      <td>1</td>\n",
       "      <td>45</td>\n",
       "      <td>0</td>\n",
       "    </tr>\n",
       "  </tbody>\n",
       "</table>\n",
       "</div>"
      ],
      "text/plain": [
       "   open_issues_count  has_wiki  has_downloads  has_projects  watchers  \\\n",
       "0                248         0              1             0    324428   \n",
       "1              16810         0              1             0    257104   \n",
       "2                 31         1              1             0    188740   \n",
       "3                536         1              1             1    183726   \n",
       "4                 45         0              1             0    170509   \n",
       "\n",
       "   stargazers_count    size  has_pages  has_issues  open_issues  private  \n",
       "0            324428  197549          1           1          248        0  \n",
       "1            257104  183401          0           0        16810        0  \n",
       "2            188740   10804          1           1           31        0  \n",
       "3            183726   27322          0           1          536        0  \n",
       "4            170509   13138          0           1           45        0  "
      ]
     },
     "execution_count": 21,
     "metadata": {},
     "output_type": "execute_result"
    }
   ],
   "source": [
    "df2 = df2*1\n",
    "df2.head()"
   ]
  },
  {
   "cell_type": "code",
   "execution_count": null,
   "id": "b72ef005-e696-40ee-a13b-045273786838",
   "metadata": {},
   "outputs": [],
   "source": []
  },
  {
   "cell_type": "markdown",
   "id": "2217d976-2787-468f-9b1a-9f9d68918d00",
   "metadata": {},
   "source": [
    "#### Find correlated collumns"
   ]
  },
  {
   "cell_type": "code",
   "execution_count": 22,
   "id": "a663f088-597d-428c-86b1-5896f44e05a2",
   "metadata": {},
   "outputs": [
    {
     "data": {
      "text/plain": [
       "<AxesSubplot:>"
      ]
     },
     "execution_count": 22,
     "metadata": {},
     "output_type": "execute_result"
    },
    {
     "data": {
      "image/png": "[encoded data removed]",
      "text/plain": [
       "<Figure size 864x720 with 2 Axes>"
      ]
     },
     "metadata": {
      "needs_background": "light"
     },
     "output_type": "display_data"
    }
   ],
   "source": [
    "plt.figure(figsize=(12,10))\n",
    "sns.heatmap(df2.corr(), annot=True, cmap=plt.cm.CMRmap_r)"
   ]
  },
  {
   "cell_type": "markdown",
   "id": "0b0a2534-dafe-4b42-821e-ff031aba207e",
   "metadata": {},
   "source": [
    "### based on the correlation delete  open_issues"
   ]
  },
  {
   "cell_type": "code",
   "execution_count": 23,
   "id": "7c26f892-38c7-42d3-9e85-3a5ce3045780",
   "metadata": {},
   "outputs": [],
   "source": [
    "def correlation(dataset, threshold):\n",
    "    col_corr = set()  # Set of all the names of correlated columns\n",
    "    corr_matrix = dataset.corr()\n",
    "    for i in range(len(corr_matrix.columns)):\n",
    "        for j in range(i):\n",
    "            if abs(corr_matrix.iloc[i, j]) > threshold: # we are interested in absolute coeff value\n",
    "                colname = corr_matrix.columns[i]  # getting the name of column\n",
    "                col_corr.add(colname)\n",
    "    return col_corr"
   ]
  },
  {
   "cell_type": "code",
   "execution_count": 25,
   "id": "063f6401-e6f6-4c92-89fa-11fc5396b625",
   "metadata": {},
   "outputs": [
    {
     "data": {
      "text/plain": [
       "{'open_issues', 'stargazers_count'}"
      ]
     },
     "execution_count": 25,
     "metadata": {},
     "output_type": "execute_result"
    }
   ],
   "source": [
    "corr_features = correlation(df2, 0.8)\n",
    "corr_features"
   ]
  },
  {
   "cell_type": "code",
   "execution_count": 26,
   "id": "0eed5602-d56e-4b20-acfe-a0a6e769d669",
   "metadata": {},
   "outputs": [
    {
     "data": {
      "text/html": [
       "<div>\n",
       "<style scoped>\n",
       "    .dataframe tbody tr th:only-of-type {\n",
       "        vertical-align: middle;\n",
       "    }\n",
       "\n",
       "    .dataframe tbody tr th {\n",
       "        vertical-align: top;\n",
       "    }\n",
       "\n",
       "    .dataframe thead th {\n",
       "        text-align: right;\n",
       "    }\n",
       "</style>\n",
       "<table border=\"1\" class=\"dataframe\">\n",
       "  <thead>\n",
       "    <tr style=\"text-align: right;\">\n",
       "      <th></th>\n",
       "      <th>open_issues_count</th>\n",
       "      <th>has_wiki</th>\n",
       "      <th>has_downloads</th>\n",
       "      <th>has_projects</th>\n",
       "      <th>stargazers_count</th>\n",
       "      <th>size</th>\n",
       "      <th>has_pages</th>\n",
       "      <th>has_issues</th>\n",
       "      <th>private</th>\n",
       "    </tr>\n",
       "  </thead>\n",
       "  <tbody>\n",
       "    <tr>\n",
       "      <th>0</th>\n",
       "      <td>248</td>\n",
       "      <td>0</td>\n",
       "      <td>1</td>\n",
       "      <td>0</td>\n",
       "      <td>324428</td>\n",
       "      <td>197549</td>\n",
       "      <td>1</td>\n",
       "      <td>1</td>\n",
       "      <td>0</td>\n",
       "    </tr>\n",
       "    <tr>\n",
       "      <th>1</th>\n",
       "      <td>16810</td>\n",
       "      <td>0</td>\n",
       "      <td>1</td>\n",
       "      <td>0</td>\n",
       "      <td>257104</td>\n",
       "      <td>183401</td>\n",
       "      <td>0</td>\n",
       "      <td>0</td>\n",
       "      <td>0</td>\n",
       "    </tr>\n",
       "    <tr>\n",
       "      <th>2</th>\n",
       "      <td>31</td>\n",
       "      <td>1</td>\n",
       "      <td>1</td>\n",
       "      <td>0</td>\n",
       "      <td>188740</td>\n",
       "      <td>10804</td>\n",
       "      <td>1</td>\n",
       "      <td>1</td>\n",
       "      <td>0</td>\n",
       "    </tr>\n",
       "    <tr>\n",
       "      <th>3</th>\n",
       "      <td>536</td>\n",
       "      <td>1</td>\n",
       "      <td>1</td>\n",
       "      <td>1</td>\n",
       "      <td>183726</td>\n",
       "      <td>27322</td>\n",
       "      <td>0</td>\n",
       "      <td>1</td>\n",
       "      <td>0</td>\n",
       "    </tr>\n",
       "    <tr>\n",
       "      <th>4</th>\n",
       "      <td>45</td>\n",
       "      <td>0</td>\n",
       "      <td>1</td>\n",
       "      <td>0</td>\n",
       "      <td>170509</td>\n",
       "      <td>13138</td>\n",
       "      <td>0</td>\n",
       "      <td>1</td>\n",
       "      <td>0</td>\n",
       "    </tr>\n",
       "  </tbody>\n",
       "</table>\n",
       "</div>"
      ],
      "text/plain": [
       "   open_issues_count  has_wiki  has_downloads  has_projects  stargazers_count  \\\n",
       "0                248         0              1             0            324428   \n",
       "1              16810         0              1             0            257104   \n",
       "2                 31         1              1             0            188740   \n",
       "3                536         1              1             1            183726   \n",
       "4                 45         0              1             0            170509   \n",
       "\n",
       "     size  has_pages  has_issues  private  \n",
       "0  197549          1           1        0  \n",
       "1  183401          0           0        0  \n",
       "2   10804          1           1        0  \n",
       "3   27322          0           1        0  \n",
       "4   13138          0           1        0  "
      ]
     },
     "execution_count": 26,
     "metadata": {},
     "output_type": "execute_result"
    }
   ],
   "source": [
    "df2 = df2.drop(['open_issues','watchers'],axis=1)\n",
    "df2.head()"
   ]
  },
  {
   "cell_type": "markdown",
   "id": "afe2ab93-969e-43b1-a68d-7480073bc21e",
   "metadata": {},
   "source": [
    "#### drop the nan values"
   ]
  },
  {
   "cell_type": "code",
   "execution_count": 27,
   "id": "805b641d-cdbd-4ba7-a32d-fd75f041f28b",
   "metadata": {},
   "outputs": [
    {
     "data": {
      "text/html": [
       "<div>\n",
       "<style scoped>\n",
       "    .dataframe tbody tr th:only-of-type {\n",
       "        vertical-align: middle;\n",
       "    }\n",
       "\n",
       "    .dataframe tbody tr th {\n",
       "        vertical-align: top;\n",
       "    }\n",
       "\n",
       "    .dataframe thead th {\n",
       "        text-align: right;\n",
       "    }\n",
       "</style>\n",
       "<table border=\"1\" class=\"dataframe\">\n",
       "  <thead>\n",
       "    <tr style=\"text-align: right;\">\n",
       "      <th></th>\n",
       "      <th>open_issues_count</th>\n",
       "      <th>has_wiki</th>\n",
       "      <th>has_downloads</th>\n",
       "      <th>has_projects</th>\n",
       "      <th>stargazers_count</th>\n",
       "      <th>size</th>\n",
       "      <th>has_pages</th>\n",
       "      <th>has_issues</th>\n",
       "      <th>private</th>\n",
       "    </tr>\n",
       "  </thead>\n",
       "  <tbody>\n",
       "    <tr>\n",
       "      <th>0</th>\n",
       "      <td>248</td>\n",
       "      <td>0</td>\n",
       "      <td>1</td>\n",
       "      <td>0</td>\n",
       "      <td>324428</td>\n",
       "      <td>197549</td>\n",
       "      <td>1</td>\n",
       "      <td>1</td>\n",
       "      <td>0</td>\n",
       "    </tr>\n",
       "    <tr>\n",
       "      <th>1</th>\n",
       "      <td>16810</td>\n",
       "      <td>0</td>\n",
       "      <td>1</td>\n",
       "      <td>0</td>\n",
       "      <td>257104</td>\n",
       "      <td>183401</td>\n",
       "      <td>0</td>\n",
       "      <td>0</td>\n",
       "      <td>0</td>\n",
       "    </tr>\n",
       "    <tr>\n",
       "      <th>2</th>\n",
       "      <td>31</td>\n",
       "      <td>1</td>\n",
       "      <td>1</td>\n",
       "      <td>0</td>\n",
       "      <td>188740</td>\n",
       "      <td>10804</td>\n",
       "      <td>1</td>\n",
       "      <td>1</td>\n",
       "      <td>0</td>\n",
       "    </tr>\n",
       "    <tr>\n",
       "      <th>3</th>\n",
       "      <td>536</td>\n",
       "      <td>1</td>\n",
       "      <td>1</td>\n",
       "      <td>1</td>\n",
       "      <td>183726</td>\n",
       "      <td>27322</td>\n",
       "      <td>0</td>\n",
       "      <td>1</td>\n",
       "      <td>0</td>\n",
       "    </tr>\n",
       "    <tr>\n",
       "      <th>4</th>\n",
       "      <td>45</td>\n",
       "      <td>0</td>\n",
       "      <td>1</td>\n",
       "      <td>0</td>\n",
       "      <td>170509</td>\n",
       "      <td>13138</td>\n",
       "      <td>0</td>\n",
       "      <td>1</td>\n",
       "      <td>0</td>\n",
       "    </tr>\n",
       "  </tbody>\n",
       "</table>\n",
       "</div>"
      ],
      "text/plain": [
       "   open_issues_count  has_wiki  has_downloads  has_projects  stargazers_count  \\\n",
       "0                248         0              1             0            324428   \n",
       "1              16810         0              1             0            257104   \n",
       "2                 31         1              1             0            188740   \n",
       "3                536         1              1             1            183726   \n",
       "4                 45         0              1             0            170509   \n",
       "\n",
       "     size  has_pages  has_issues  private  \n",
       "0  197549          1           1        0  \n",
       "1  183401          0           0        0  \n",
       "2   10804          1           1        0  \n",
       "3   27322          0           1        0  \n",
       "4   13138          0           1        0  "
      ]
     },
     "execution_count": 27,
     "metadata": {},
     "output_type": "execute_result"
    }
   ],
   "source": [
    "df2 = df2.dropna()\n",
    "df2.head()"
   ]
  },
  {
   "cell_type": "markdown",
   "id": "f4818d59-a27c-400a-92b5-5a0315dafd10",
   "metadata": {},
   "source": [
    "#### check for feature importance based on mutual information"
   ]
  },
  {
   "cell_type": "code",
   "execution_count": 28,
   "id": "fe8f09f9-44ab-4938-8b40-7282710026df",
   "metadata": {},
   "outputs": [],
   "source": [
    "from sklearn.model_selection import train_test_split\n",
    "X_train,X_test,y_train,y_test=train_test_split(df2.drop(labels=['stargazers_count'], axis=1),df2['stargazers_count'],test_size=0.3, random_state=0)"
   ]
  },
  {
   "cell_type": "code",
   "execution_count": null,
   "id": "a9b53c07-622b-4d8d-851e-75860860fe22",
   "metadata": {},
   "outputs": [],
   "source": []
  },
  {
   "cell_type": "code",
   "execution_count": 29,
   "id": "a641627f-7a33-45d9-8ccd-745e3d5ddd15",
   "metadata": {},
   "outputs": [
    {
     "data": {
      "text/plain": [
       "<AxesSubplot:>"
      ]
     },
     "execution_count": 29,
     "metadata": {},
     "output_type": "execute_result"
    },
    {
     "data": {
      "image/png": "[encoded data removed]",
      "text/plain": [
       "<Figure size 720x360 with 1 Axes>"
      ]
     },
     "metadata": {
      "needs_background": "light"
     },
     "output_type": "display_data"
    }
   ],
   "source": [
    "from sklearn.feature_selection import mutual_info_classif\n",
    "# determine the mutual information\n",
    "mutual_info = pd.Series(mutual_info_classif(X_train, y_train))\n",
    "mutual_info.index = X_train.columns\n",
    "mutual_info.sort_values(ascending=False)\n",
    "mutual_info.sort_values(ascending=False).plot.bar(figsize=(10, 5))"
   ]
  },
  {
   "cell_type": "markdown",
   "id": "60db0731-cf61-4bf3-8b34-3b1ad1e1b1e1",
   "metadata": {},
   "source": [
    "### we can drop 'private' from the data"
   ]
  },
  {
   "cell_type": "code",
   "execution_count": 21,
   "id": "7b048c8c-38b2-450c-8f7e-dea83d713657",
   "metadata": {},
   "outputs": [],
   "source": [
    "df2_temp = df2.drop('private', axis = 1)\n",
    "X_train,X_test,y_train,y_test=train_test_split(df2.drop(labels=['stargazers_count'], axis=1),df2_temp['stargazers_count'],test_size=0.3, random_state=0)"
   ]
  },
  {
   "cell_type": "markdown",
   "id": "4cd7d779-2d40-4df7-af74-99aba00bd820",
   "metadata": {},
   "source": [
    "### save data"
   ]
  },
  {
   "cell_type": "code",
   "execution_count": 53,
   "id": "ef0e9954-5ca3-48c9-90c6-311a375823dd",
   "metadata": {},
   "outputs": [],
   "source": [
    "df2_temp.to_pickle('model_data')"
   ]
  },
  {
   "cell_type": "markdown",
   "id": "af41f02c-69c1-4c6c-bfbd-6d44dbed1f56",
   "metadata": {},
   "source": [
    "### data normalization"
   ]
  },
  {
   "cell_type": "code",
   "execution_count": 22,
   "id": "0abb730e-cf70-454a-9fac-c2cf33ce5d62",
   "metadata": {},
   "outputs": [],
   "source": [
    "#from sklearn.preprocessing import StandardScaler\n",
    "#sc = StandardScaler()\n",
    "#cols = ['open_issues_count', 'size']\n",
    "#X_train[cols] = sc.fit_transform(X_train[cols])\n",
    "#X_test[cols] = sc.transform(X_test[cols])"
   ]
  },
  {
   "cell_type": "code",
   "execution_count": null,
   "id": "a8fecc94-01d7-4a6c-a9b2-ed2e4086ef25",
   "metadata": {},
   "outputs": [],
   "source": []
  },
  {
   "cell_type": "markdown",
   "id": "636a2df3-cb81-4197-914b-07501016993d",
   "metadata": {},
   "source": [
    "### should we scale the target as well ?"
   ]
  },
  {
   "cell_type": "code",
   "execution_count": null,
   "id": "67e760db-450f-4e4b-8e8a-257bd1273d95",
   "metadata": {},
   "outputs": [],
   "source": []
  },
  {
   "cell_type": "markdown",
   "id": "b8540276-9a36-40a0-b8d8-ca8530fe4221",
   "metadata": {},
   "source": [
    "### train the model using pytorch"
   ]
  },
  {
   "cell_type": "code",
   "execution_count": null,
   "id": "ef585a49-1bea-4270-920b-785d0cb781b7",
   "metadata": {},
   "outputs": [],
   "source": []
  },
  {
   "cell_type": "code",
   "execution_count": null,
   "id": "5c0e05f7-9c41-44d6-9ec5-b96a695dba49",
   "metadata": {},
   "outputs": [],
   "source": []
  },
  {
   "cell_type": "code",
   "execution_count": null,
   "id": "608e06c6-f494-40eb-8be1-73c9786b5f43",
   "metadata": {},
   "outputs": [],
   "source": []
  },
  {
   "cell_type": "code",
   "execution_count": null,
   "id": "92f033a0-ff0f-4887-9519-8ffc9970927a",
   "metadata": {},
   "outputs": [],
   "source": []
  },
  {
   "cell_type": "code",
   "execution_count": null,
   "id": "a09c11c8-94e5-4e40-81bf-69a411554849",
   "metadata": {},
   "outputs": [],
   "source": []
  },
  {
   "cell_type": "code",
   "execution_count": null,
   "id": "87613216-037e-4224-8ad9-a43e9cffdecb",
   "metadata": {},
   "outputs": [],
   "source": []
  },
  {
   "cell_type": "code",
   "execution_count": null,
   "id": "35e8d99b-0daa-4ed5-9c7a-4b52171dd71b",
   "metadata": {},
   "outputs": [],
   "source": []
  },
  {
   "cell_type": "code",
   "execution_count": null,
   "id": "b07c8729-467f-4551-ab57-0262e920cdaf",
   "metadata": {},
   "outputs": [],
   "source": []
  },
  {
   "cell_type": "code",
   "execution_count": null,
   "id": "7e026e2b-fac1-4d17-8ff4-ea39f62169a4",
   "metadata": {},
   "outputs": [],
   "source": []
  },
  {
   "cell_type": "code",
   "execution_count": null,
   "id": "ba465e84-fd15-4480-bde7-3299c6073f72",
   "metadata": {},
   "outputs": [],
   "source": []
  },
  {
   "cell_type": "code",
   "execution_count": null,
   "id": "003fa742-5948-452e-85c5-cc9431cae4fc",
   "metadata": {},
   "outputs": [],
   "source": []
  },
  {
   "cell_type": "markdown",
   "id": "0fea235f-760f-44a8-93cd-bc3c7f8b4087",
   "metadata": {},
   "source": [
    "#### repeat based on chi2 test\n",
    "chi2 returns 2 values\n",
    "Fscore and the pvalue"
   ]
  },
  {
   "cell_type": "code",
   "execution_count": 24,
   "id": "5fcab699-9785-45af-b276-f95c9ff9109b",
   "metadata": {},
   "outputs": [
    {
     "ename": "ValueError",
     "evalue": "Input X must be non-negative.",
     "output_type": "error",
     "traceback": [
      "\u001b[1;31m---------------------------------------------------------------------------\u001b[0m",
      "\u001b[1;31mValueError\u001b[0m                                Traceback (most recent call last)",
      "\u001b[1;32m<ipython-input-24-46d94469e14b>\u001b[0m in \u001b[0;36m<module>\u001b[1;34m\u001b[0m\n\u001b[0;32m      1\u001b[0m \u001b[1;32mfrom\u001b[0m \u001b[0msklearn\u001b[0m\u001b[1;33m.\u001b[0m\u001b[0mfeature_selection\u001b[0m \u001b[1;32mimport\u001b[0m \u001b[0mchi2\u001b[0m\u001b[1;33m\u001b[0m\u001b[1;33m\u001b[0m\u001b[0m\n\u001b[1;32m----> 2\u001b[1;33m \u001b[0mf_p_values\u001b[0m\u001b[1;33m=\u001b[0m\u001b[0mchi2\u001b[0m\u001b[1;33m(\u001b[0m\u001b[0mX_train\u001b[0m\u001b[1;33m,\u001b[0m\u001b[0my_train\u001b[0m\u001b[1;33m)\u001b[0m\u001b[1;33m\u001b[0m\u001b[1;33m\u001b[0m\u001b[0m\n\u001b[0m\u001b[0;32m      3\u001b[0m \u001b[0mprint\u001b[0m\u001b[1;33m(\u001b[0m\u001b[0mf_p_values\u001b[0m\u001b[1;33m)\u001b[0m\u001b[1;33m\u001b[0m\u001b[1;33m\u001b[0m\u001b[0m\n",
      "\u001b[1;32m~\\anaconda3\\envs\\ml-gpu\\lib\\site-packages\\sklearn\\feature_selection\\_univariate_selection.py\u001b[0m in \u001b[0;36mchi2\u001b[1;34m(X, y)\u001b[0m\n\u001b[0;32m    216\u001b[0m     \u001b[0mX\u001b[0m \u001b[1;33m=\u001b[0m \u001b[0mcheck_array\u001b[0m\u001b[1;33m(\u001b[0m\u001b[0mX\u001b[0m\u001b[1;33m,\u001b[0m \u001b[0maccept_sparse\u001b[0m\u001b[1;33m=\u001b[0m\u001b[1;34m'csr'\u001b[0m\u001b[1;33m)\u001b[0m\u001b[1;33m\u001b[0m\u001b[1;33m\u001b[0m\u001b[0m\n\u001b[0;32m    217\u001b[0m     \u001b[1;32mif\u001b[0m \u001b[0mnp\u001b[0m\u001b[1;33m.\u001b[0m\u001b[0many\u001b[0m\u001b[1;33m(\u001b[0m\u001b[1;33m(\u001b[0m\u001b[0mX\u001b[0m\u001b[1;33m.\u001b[0m\u001b[0mdata\u001b[0m \u001b[1;32mif\u001b[0m \u001b[0missparse\u001b[0m\u001b[1;33m(\u001b[0m\u001b[0mX\u001b[0m\u001b[1;33m)\u001b[0m \u001b[1;32melse\u001b[0m \u001b[0mX\u001b[0m\u001b[1;33m)\u001b[0m \u001b[1;33m<\u001b[0m \u001b[1;36m0\u001b[0m\u001b[1;33m)\u001b[0m\u001b[1;33m:\u001b[0m\u001b[1;33m\u001b[0m\u001b[1;33m\u001b[0m\u001b[0m\n\u001b[1;32m--> 218\u001b[1;33m         \u001b[1;32mraise\u001b[0m \u001b[0mValueError\u001b[0m\u001b[1;33m(\u001b[0m\u001b[1;34m\"Input X must be non-negative.\"\u001b[0m\u001b[1;33m)\u001b[0m\u001b[1;33m\u001b[0m\u001b[1;33m\u001b[0m\u001b[0m\n\u001b[0m\u001b[0;32m    219\u001b[0m \u001b[1;33m\u001b[0m\u001b[0m\n\u001b[0;32m    220\u001b[0m     \u001b[0mY\u001b[0m \u001b[1;33m=\u001b[0m \u001b[0mLabelBinarizer\u001b[0m\u001b[1;33m(\u001b[0m\u001b[1;33m)\u001b[0m\u001b[1;33m.\u001b[0m\u001b[0mfit_transform\u001b[0m\u001b[1;33m(\u001b[0m\u001b[0my\u001b[0m\u001b[1;33m)\u001b[0m\u001b[1;33m\u001b[0m\u001b[1;33m\u001b[0m\u001b[0m\n",
      "\u001b[1;31mValueError\u001b[0m: Input X must be non-negative."
     ]
    }
   ],
   "source": [
    "from sklearn.feature_selection import chi2\n",
    "f_p_values=chi2(X_train,y_train)\n",
    "print(f_p_values)"
   ]
  },
  {
   "cell_type": "code",
   "execution_count": null,
   "id": "c616fa6c-c019-44f6-b59e-f7604f85d665",
   "metadata": {},
   "outputs": [],
   "source": [
    "p_values=pd.Series(f_p_values[1])\n",
    "p_values.index=X_train.columns\n",
    "p_values"
   ]
  },
  {
   "cell_type": "code",
   "execution_count": null,
   "id": "69c18338-8833-4708-bda5-1f6c2c6a2a88",
   "metadata": {},
   "outputs": [],
   "source": []
  },
  {
   "cell_type": "code",
   "execution_count": null,
   "id": "4403df78-80ac-43fc-92a6-68f0f56aac7c",
   "metadata": {},
   "outputs": [],
   "source": []
  },
  {
   "cell_type": "code",
   "execution_count": null,
   "id": "5454a035-2500-4ef2-b420-797b1e869999",
   "metadata": {},
   "outputs": [],
   "source": []
  },
  {
   "cell_type": "code",
   "execution_count": null,
   "id": "25ab998c-0c83-46e4-b85d-761581080a7f",
   "metadata": {},
   "outputs": [],
   "source": []
  },
  {
   "cell_type": "code",
   "execution_count": null,
   "id": "e1e8800d-5108-4b3f-aad7-c2aa0cde24f1",
   "metadata": {},
   "outputs": [],
   "source": [
    "plt.subplots(figsize=(15, 3))\n",
    "plt.subplot(1,2,1)\n",
    "plt.plot(df['watchers'])\n",
    "plt.axhline(y=50, color='r', linestyle='-')\n",
    "plt.subplot(1,2,2)\n",
    "plt.hist(df['watchers'])"
   ]
  },
  {
   "cell_type": "code",
   "execution_count": null,
   "id": "4bf5d732-7bab-4f0c-aa3b-d8b7a5f99340",
   "metadata": {},
   "outputs": [],
   "source": []
  },
  {
   "cell_type": "code",
   "execution_count": null,
   "id": "b2321f03-7746-498d-a53b-4b386215d544",
   "metadata": {},
   "outputs": [],
   "source": [
    "def plot_q(quantity):\n",
    "    plt.subplots(figsize=(15, 3))\n",
    "    plt.subplot(1,2,1)\n",
    "    plt.plot(df[quantity])\n",
    "    #plt.axhline(y=50, color='r', linestyle='-')\n",
    "    plt.subplot(1,2,2)\n",
    "    plt.hist(df[quantity])"
   ]
  },
  {
   "cell_type": "code",
   "execution_count": null,
   "id": "6a155182-3520-4eaa-aaf1-5909ee729a09",
   "metadata": {},
   "outputs": [],
   "source": [
    "plot_q('forks')"
   ]
  },
  {
   "cell_type": "code",
   "execution_count": null,
   "id": "8d7a804c-ad0c-49ea-b4cc-55d81c6a838b",
   "metadata": {},
   "outputs": [],
   "source": []
  },
  {
   "cell_type": "code",
   "execution_count": null,
   "id": "08643a5b-742f-440c-8f3b-76446e428619",
   "metadata": {},
   "outputs": [],
   "source": [
    "df.groupby('language')['forks'].mean().plot(kind='bar')"
   ]
  },
  {
   "cell_type": "code",
   "execution_count": null,
   "id": "1475e1ae-e91d-4064-99e6-973d5ccdf75f",
   "metadata": {},
   "outputs": [],
   "source": []
  },
  {
   "cell_type": "code",
   "execution_count": null,
   "id": "e6d0cc9d-7b35-4bff-a3e5-a90db6ae7828",
   "metadata": {},
   "outputs": [],
   "source": []
  },
  {
   "cell_type": "code",
   "execution_count": null,
   "id": "569014cd-a11e-4f36-8d93-14f41344764f",
   "metadata": {},
   "outputs": [],
   "source": []
  },
  {
   "cell_type": "code",
   "execution_count": null,
   "id": "7bf76926-4e5b-4558-83dc-f29b9e7d11c0",
   "metadata": {},
   "outputs": [],
   "source": []
  },
  {
   "cell_type": "code",
   "execution_count": null,
   "id": "6c0e2427-7630-44f3-8c81-8282e98db21b",
   "metadata": {},
   "outputs": [],
   "source": []
  },
  {
   "cell_type": "code",
   "execution_count": null,
   "id": "12d92ed2-68aa-4363-8319-38c6eb12da3f",
   "metadata": {},
   "outputs": [],
   "source": []
  },
  {
   "cell_type": "code",
   "execution_count": null,
   "id": "536d4e5d-7442-467b-a9c0-e1c098d2213c",
   "metadata": {},
   "outputs": [],
   "source": []
  },
  {
   "cell_type": "code",
   "execution_count": null,
   "id": "97bf1ec4-01a9-43b0-b34a-f1b208f5423f",
   "metadata": {},
   "outputs": [],
   "source": []
  },
  {
   "cell_type": "code",
   "execution_count": null,
   "id": "babdf30f-3fd1-4009-90cc-62c9a4edf080",
   "metadata": {},
   "outputs": [],
   "source": []
  },
  {
   "cell_type": "markdown",
   "id": "068db052-1fae-48fd-907f-9f167535ca44",
   "metadata": {},
   "source": [
    "### Not used code"
   ]
  },
  {
   "cell_type": "markdown",
   "id": "d97689c8-cd7b-4ee5-a133-932f42dc72f8",
   "metadata": {},
   "source": [
    "### find keys in the itmes field"
   ]
  },
  {
   "cell_type": "code",
   "execution_count": 8,
   "id": "edc99ce6-f52b-4554-83ab-93555a0cdb87",
   "metadata": {},
   "outputs": [
    {
     "data": {
      "text/plain": [
       "dict_keys(['total_count', 'incomplete_results', 'items'])"
      ]
     },
     "execution_count": 8,
     "metadata": {},
     "output_type": "execute_result"
    }
   ],
   "source": [
    "r_json.keys()"
   ]
  },
  {
   "cell_type": "code",
   "execution_count": 7,
   "id": "c82f13c1-6ba6-4e1c-925d-218f34173eca",
   "metadata": {},
   "outputs": [
    {
     "data": {
      "text/plain": [
       "100"
      ]
     },
     "execution_count": 7,
     "metadata": {},
     "output_type": "execute_result"
    }
   ],
   "source": [
    "r_json = data[0]\n",
    "items = r_json['items']\n",
    "len(items)"
   ]
  },
  {
   "cell_type": "code",
   "execution_count": 6,
   "id": "e9d5574a-5568-4877-942f-08cb26504127",
   "metadata": {},
   "outputs": [
    {
     "data": {
      "text/plain": [
       "['total_count', 'incomplete_results', 'items']"
      ]
     },
     "execution_count": 6,
     "metadata": {},
     "output_type": "execute_result"
    }
   ],
   "source": [
    "[key for key in r_json]   "
   ]
  },
  {
   "cell_type": "code",
   "execution_count": 7,
   "id": "65752cba-c1e3-428b-a81c-5e40d95adfb6",
   "metadata": {},
   "outputs": [
    {
     "name": "stdout",
     "output_type": "stream",
     "text": [
      "['id', 'node_id', 'name', 'full_name', 'private', 'owner', 'html_url', 'description', 'fork', 'url', 'forks_url', 'keys_url', 'collaborators_url', 'teams_url', 'hooks_url', 'issue_events_url', 'events_url', 'assignees_url', 'branches_url', 'tags_url', 'blobs_url', 'git_tags_url', 'git_refs_url', 'trees_url', 'statuses_url', 'languages_url', 'stargazers_url', 'contributors_url', 'subscribers_url', 'subscription_url', 'commits_url', 'git_commits_url', 'comments_url', 'issue_comment_url', 'contents_url', 'compare_url', 'merges_url', 'archive_url', 'downloads_url', 'issues_url', 'pulls_url', 'milestones_url', 'notifications_url', 'labels_url', 'releases_url', 'deployments_url', 'created_at', 'updated_at', 'pushed_at', 'git_url', 'ssh_url', 'clone_url', 'svn_url', 'homepage', 'size', 'stargazers_count', 'watchers_count', 'language', 'has_issues', 'has_projects', 'has_downloads', 'has_wiki', 'has_pages', 'forks_count', 'mirror_url', 'archived', 'disabled', 'open_issues_count', 'license', 'forks', 'open_issues', 'watchers', 'default_branch', 'score'] \t\n"
     ]
    }
   ],
   "source": [
    "print([(key) for key in r_json['items'][0]], '\\t')"
   ]
  },
  {
   "cell_type": "code",
   "execution_count": 8,
   "id": "aa2f8336-9805-4fae-9021-af5428de56da",
   "metadata": {},
   "outputs": [
    {
     "name": "stdout",
     "output_type": "stream",
     "text": [
      "{\n",
      " \"id\": 177736533,\n",
      " \"node_id\": \"MDEwOlJlcG9zaXRvcnkxNzc3MzY1MzM=\",\n",
      " \"name\": \"996.ICU\",\n",
      " \"full_name\": \"996icu/996.ICU\",\n",
      " \"private\": false,\n",
      " \"owner\": {\n",
      "  \"login\": \"996icu\",\n",
      "  \"id\": 48942249,\n",
      "  \"node_id\": \"MDQ6VXNlcjQ4OTQyMjQ5\",\n",
      "  \"avatar_url\": \"https://avatars.githubusercontent.com/u/48942249?v=4\",\n",
      "  \"gravatar_id\": \"\",\n",
      "  \"url\": \"https://api.github.com/users/996icu\",\n",
      "  \"html_url\": \"https://github.com/996icu\",\n",
      "  \"followers_url\": \"https://api.github.com/users/996icu/followers\",\n",
      "  \"following_url\": \"https://api.github.com/users/996icu/following{/other_user}\",\n",
      "  \"gists_url\": \"https://api.github.com/users/996icu/gists{/gist_id}\",\n",
      "  \"starred_url\": \"https://api.github.com/users/996icu/starred{/owner}{/repo}\",\n",
      "  \"subscriptions_url\": \"https://api.github.com/users/996icu/subscriptions\",\n",
      "  \"organizations_url\": \"https://api.github.com/users/996icu/orgs\",\n",
      "  \"repos_url\": \"https://api.github.com/users/996icu/repos\",\n",
      "  \"events_url\": \"https://api.github.com/users/996icu/events{/privacy}\",\n",
      "  \"received_events_url\": \"https://api.github.com/users/996icu/received_events\",\n",
      "  \"type\": \"User\",\n",
      "  \"site_admin\": false\n",
      " },\n",
      " \"html_url\": \"https://github.com/996icu/996.ICU\",\n",
      " \"description\": \"Repo for counting stars and contributing. Press F to pay respect to glorious developers.\",\n",
      " \"fork\": false,\n",
      " \"url\": \"https://api.github.com/repos/996icu/996.ICU\",\n",
      " \"forks_url\": \"https://api.github.com/repos/996icu/996.ICU/forks\",\n",
      " \"keys_url\": \"https://api.github.com/repos/996icu/996.ICU/keys{/key_id}\",\n",
      " \"collaborators_url\": \"https://api.github.com/repos/996icu/996.ICU/collaborators{/collaborator}\",\n",
      " \"teams_url\": \"https://api.github.com/repos/996icu/996.ICU/teams\",\n",
      " \"hooks_url\": \"https://api.github.com/repos/996icu/996.ICU/hooks\",\n",
      " \"issue_events_url\": \"https://api.github.com/repos/996icu/996.ICU/issues/events{/number}\",\n",
      " \"events_url\": \"https://api.github.com/repos/996icu/996.ICU/events\",\n",
      " \"assignees_url\": \"https://api.github.com/repos/996icu/996.ICU/assignees{/user}\",\n",
      " \"branches_url\": \"https://api.github.com/repos/996icu/996.ICU/branches{/branch}\",\n",
      " \"tags_url\": \"https://api.github.com/repos/996icu/996.ICU/tags\",\n",
      " \"blobs_url\": \"https://api.github.com/repos/996icu/996.ICU/git/blobs{/sha}\",\n",
      " \"git_tags_url\": \"https://api.github.com/repos/996icu/996.ICU/git/tags{/sha}\",\n",
      " \"git_refs_url\": \"https://api.github.com/repos/996icu/996.ICU/git/refs{/sha}\",\n",
      " \"trees_url\": \"https://api.github.com/repos/996icu/996.ICU/git/trees{/sha}\",\n",
      " \"statuses_url\": \"https://api.github.com/repos/996icu/996.ICU/statuses/{sha}\",\n",
      " \"languages_url\": \"https://api.github.com/repos/996icu/996.ICU/languages\",\n",
      " \"stargazers_url\": \"https://api.github.com/repos/996icu/996.ICU/stargazers\",\n",
      " \"contributors_url\": \"https://api.github.com/repos/996icu/996.ICU/contributors\",\n",
      " \"subscribers_url\": \"https://api.github.com/repos/996icu/996.ICU/subscribers\",\n",
      " \"subscription_url\": \"https://api.github.com/repos/996icu/996.ICU/subscription\",\n",
      " \"commits_url\": \"https://api.github.com/repos/996icu/996.ICU/commits{/sha}\",\n",
      " \"git_commits_url\": \"https://api.github.com/repos/996icu/996.ICU/git/commits{/sha}\",\n",
      " \"comments_url\": \"https://api.github.com/repos/996icu/996.ICU/comments{/number}\",\n",
      " \"issue_comment_url\": \"https://api.github.com/repos/996icu/996.ICU/issues/comments{/number}\",\n",
      " \"contents_url\": \"https://api.github.com/repos/996icu/996.ICU/contents/{+path}\",\n",
      " \"compare_url\": \"https://api.github.com/repos/996icu/996.ICU/compare/{base}...{head}\",\n",
      " \"merges_url\": \"https://api.github.com/repos/996icu/996.ICU/merges\",\n",
      " \"archive_url\": \"https://api.github.com/repos/996icu/996.ICU/{archive_format}{/ref}\",\n",
      " \"downloads_url\": \"https://api.github.com/repos/996icu/996.ICU/downloads\",\n",
      " \"issues_url\": \"https://api.github.com/repos/996icu/996.ICU/issues{/number}\",\n",
      " \"pulls_url\": \"https://api.github.com/repos/996icu/996.ICU/pulls{/number}\",\n",
      " \"milestones_url\": \"https://api.github.com/repos/996icu/996.ICU/milestones{/number}\",\n",
      " \"notifications_url\": \"https://api.github.com/repos/996icu/996.ICU/notifications{?since,all,participating}\",\n",
      " \"labels_url\": \"https://api.github.com/repos/996icu/996.ICU/labels{/name}\",\n",
      " \"releases_url\": \"https://api.github.com/repos/996icu/996.ICU/releases{/id}\",\n",
      " \"deployments_url\": \"https://api.github.com/repos/996icu/996.ICU/deployments\",\n",
      " \"created_at\": \"2019-03-26T07:31:14Z\",\n",
      " \"updated_at\": \"2021-05-21T14:50:59Z\",\n",
      " \"pushed_at\": \"2021-05-20T13:21:03Z\",\n",
      " \"git_url\": \"git://github.com/996icu/996.ICU.git\",\n",
      " \"ssh_url\": \"git@github.com:996icu/996.ICU.git\",\n",
      " \"clone_url\": \"https://github.com/996icu/996.ICU.git\",\n",
      " \"svn_url\": \"https://github.com/996icu/996.ICU\",\n",
      " \"homepage\": \"https://996.icu\",\n",
      " \"size\": 183401,\n",
      " \"stargazers_count\": 257052,\n",
      " \"watchers_count\": 257052,\n",
      " \"language\": \"Rust\",\n",
      " \"has_issues\": false,\n",
      " \"has_projects\": false,\n",
      " \"has_downloads\": true,\n",
      " \"has_wiki\": false,\n",
      " \"has_pages\": false,\n",
      " \"forks_count\": 21313,\n",
      " \"mirror_url\": null,\n",
      " \"archived\": false,\n",
      " \"disabled\": false,\n",
      " \"open_issues_count\": 16810,\n",
      " \"license\": {\n",
      "  \"key\": \"other\",\n",
      "  \"name\": \"Other\",\n",
      "  \"spdx_id\": \"NOASSERTION\",\n",
      "  \"url\": null,\n",
      "  \"node_id\": \"MDc6TGljZW5zZTA=\"\n",
      " },\n",
      " \"forks\": 21313,\n",
      " \"open_issues\": 16810,\n",
      " \"watchers\": 257052,\n",
      " \"default_branch\": \"master\",\n",
      " \"score\": 1.0\n",
      "}\n"
     ]
    }
   ],
   "source": [
    "print(json.dumps(dict(r_json['items'][1]), indent=1))"
   ]
  },
  {
   "cell_type": "markdown",
   "id": "86aff2d4-789f-4d0c-b85b-6865c8b7347c",
   "metadata": {},
   "source": [
    "### double check the stars"
   ]
  },
  {
   "cell_type": "code",
   "execution_count": null,
   "id": "7920bd36-5e5a-4ee2-8156-48dc38f91db3",
   "metadata": {},
   "outputs": [],
   "source": [
    "#print(json.dumps(dict(r_json['items'][0]), indent=1))"
   ]
  },
  {
   "cell_type": "code",
   "execution_count": null,
   "id": "6a927569-2e5c-48af-a8b3-f7dc30a7845a",
   "metadata": {},
   "outputs": [],
   "source": [
    "items = r_json['items']\n",
    "ll = len(items)\n",
    "print('total itmes: ', ll)\n",
    "print([items[i]['watchers'] for i in range(ll)], '\\t')"
   ]
  }
 ],
 "metadata": {
  "kernelspec": {
   "display_name": "Python 3",
   "language": "python",
   "name": "python3"
  },
  "language_info": {
   "codemirror_mode": {
    "name": "ipython",
    "version": 3
   },
   "file_extension": ".py",
   "mimetype": "text/x-python",
   "name": "python",
   "nbconvert_exporter": "python",
   "pygments_lexer": "ipython3",
   "version": "3.8.8"
  }
 },
 "nbformat": 4,
 "nbformat_minor": 5
}
